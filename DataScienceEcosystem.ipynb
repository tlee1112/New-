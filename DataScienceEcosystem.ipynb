{
 "cells": [
  {
   "cell_type": "markdown",
   "id": "959a2d19-87b9-4ac6-b9bc-dcdef7a25505",
   "metadata": {},
   "source": [
    "# Data Science Tools and Ecosystem"
   ]
  },
  {
   "cell_type": "markdown",
   "id": "ba6017b3-8d2e-4985-baad-55b90513737f",
   "metadata": {},
   "source": [
    "In this notebook, Data Science Tools and Ecosystem are summarized."
   ]
  },
  {
   "cell_type": "markdown",
   "id": "d5a7e9ba-dc5f-408c-b4bb-7f28d16a4ffa",
   "metadata": {},
   "source": [
    "**Objectives:**\n",
    "* List popular languages\n",
    "* List libraries\n",
    "* Table of Data Science Tools\n",
    "* Examples of Arithmetic Expressions\n",
    "* Simple arithmetic expression\n",
    "* Minutes into Hours"
   ]
  },
  {
   "cell_type": "markdown",
   "id": "ede58323-1eb6-4ced-80d8-6f4b5a04cf0d",
   "metadata": {},
   "source": [
    "Some of the popular languages that Data Scientists use are:\n",
    "\n",
    "1. R\n",
    "2. Python\n",
    "3. Java\n"
   ]
  },
  {
   "cell_type": "markdown",
   "id": "d060d094-175b-4178-a8d3-061ff609f365",
   "metadata": {},
   "source": [
    "Some of the commonly used libraries used by Data Scientists include:\n",
    "\n",
    "1. Pandas\n",
    "2. NumPy\n",
    "3. TensorFlow\n",
    "4. ggplot2"
   ]
  },
  {
   "cell_type": "markdown",
   "id": "e674a604-a49b-4665-ae3e-7a950904a6b4",
   "metadata": {},
   "source": [
    "|Data Science Tools|\n",
    "| --- |\n",
    "|RStudio|\n",
    "|Apache Spark|\n",
    "|Apache Hadoop|"
   ]
  },
  {
   "cell_type": "markdown",
   "id": "179a94c9-8c2d-41d4-bd2e-645c877c9019",
   "metadata": {},
   "source": [
    "### Below are a few examples of evaluating arithmetic expressions in Python\n",
    "* 3-2\n",
    "* 3+3\n",
    "* 4*22"
   ]
  },
  {
   "cell_type": "code",
   "execution_count": 1,
   "id": "55db772c-1097-457c-95aa-5b706b8a0144",
   "metadata": {
    "tags": []
   },
   "outputs": [
    {
     "data": {
      "text/plain": [
       "17"
      ]
     },
     "execution_count": 1,
     "metadata": {},
     "output_type": "execute_result"
    }
   ],
   "source": [
    "#this a simple arithmetic expression to mutiply then add integers\n",
    "(3*4)+5"
   ]
  },
  {
   "cell_type": "code",
   "execution_count": 2,
   "id": "8ed0cb48-9261-48a9-88f4-24cedfa20cd9",
   "metadata": {
    "tags": []
   },
   "outputs": [
    {
     "data": {
      "text/plain": [
       "3.3333333333333335"
      ]
     },
     "execution_count": 2,
     "metadata": {},
     "output_type": "execute_result"
    }
   ],
   "source": [
    "#This will convert 200 minutes to hours by diving by 60\n",
    "200/60"
   ]
  },
  {
   "cell_type": "markdown",
   "id": "5d5c30bf-8b16-4a07-840a-211782ff1c04",
   "metadata": {},
   "source": [
    "## Author\n",
    "Tim Lee\n"
   ]
  },
  {
   "cell_type": "code",
   "execution_count": null,
   "id": "31c857cf-dc0b-4572-9fea-42427f25c190",
   "metadata": {},
   "outputs": [],
   "source": []
  }
 ],
 "metadata": {
  "kernelspec": {
   "display_name": "Python 3 (ipykernel)",
   "language": "python",
   "name": "python3"
  },
  "language_info": {
   "codemirror_mode": {
    "name": "ipython",
    "version": 3
   },
   "file_extension": ".py",
   "mimetype": "text/x-python",
   "name": "python",
   "nbconvert_exporter": "python",
   "pygments_lexer": "ipython3",
   "version": "3.11.4"
  }
 },
 "nbformat": 4,
 "nbformat_minor": 5
}
